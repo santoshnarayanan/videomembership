{
 "cells": [
  {
   "cell_type": "code",
   "execution_count": 4,
   "id": "69aae9e0-f8b7-4e00-9d28-a33ea7a9f6d0",
   "metadata": {},
   "outputs": [
    {
     "name": "stdout",
     "output_type": "stream",
     "text": [
      "/home/ssntosh/projects/fastapi/videomembership\n"
     ]
    }
   ],
   "source": [
    "# %cd ..\n",
    "!pwd"
   ]
  },
  {
   "cell_type": "code",
   "execution_count": 5,
   "id": "fa32afa0-fbef-4252-9068-71a8b93e080b",
   "metadata": {},
   "outputs": [],
   "source": [
    "from app import db\n",
    "from app.users.models import User\n",
    "from  cassandra.cqlengine.management import sync_table"
   ]
  },
  {
   "cell_type": "code",
   "execution_count": 6,
   "id": "fc550751-a056-44f0-a67a-27755334d705",
   "metadata": {},
   "outputs": [],
   "source": [
    "db.get_session()\n",
    "sync_table(User)"
   ]
  },
  {
   "cell_type": "code",
   "execution_count": 14,
   "id": "ce69b029-4322-42b2-8574-c60b1ab21095",
   "metadata": {},
   "outputs": [],
   "source": [
    "user_a = User.create_user(\"hello2@teamcfc.com\", password='abc1234')"
   ]
  },
  {
   "cell_type": "code",
   "execution_count": 16,
   "id": "1b6a53b6-9c16-4060-b450-cbb5bbe25e2e",
   "metadata": {},
   "outputs": [
    {
     "data": {
      "text/plain": [
       "'$argon2id$v=19$m=65536,t=3,p=4$fx4J0cQP8JGJTkvT6gpMBg$xrnVCL77dfDz2vDfpyY5t7AA7ivyax08rLzdp2FMX2A'"
      ]
     },
     "execution_count": 16,
     "metadata": {},
     "output_type": "execute_result"
    }
   ],
   "source": [
    "user_a.password"
   ]
  },
  {
   "cell_type": "code",
   "execution_count": 19,
   "id": "06b83386-e290-49df-8db8-acd879df663c",
   "metadata": {},
   "outputs": [
    {
     "data": {
      "text/plain": [
       "(False, 'Invalid password')"
      ]
     },
     "execution_count": 19,
     "metadata": {},
     "output_type": "execute_result"
    }
   ],
   "source": [
    "user_a.verify_password('abc1234d')"
   ]
  },
  {
   "cell_type": "code",
   "execution_count": null,
   "id": "108742bc-185d-4140-9c8b-86db66764a5b",
   "metadata": {},
   "outputs": [],
   "source": []
  }
 ],
 "metadata": {
  "kernelspec": {
   "display_name": "videomembership",
   "language": "python",
   "name": "python3"
  },
  "language_info": {
   "codemirror_mode": {
    "name": "ipython",
    "version": 3
   },
   "file_extension": ".py",
   "mimetype": "text/x-python",
   "name": "python",
   "nbconvert_exporter": "python",
   "pygments_lexer": "ipython3",
   "version": "3.12.5"
  }
 },
 "nbformat": 4,
 "nbformat_minor": 5
}
